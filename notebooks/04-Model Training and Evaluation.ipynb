{
 "cells": [
  {
   "cell_type": "markdown",
   "metadata": {},
   "source": [
    "# Model Training and Evaluation\n",
    "\n",
    "We look at a number of different models to determine which model performs the best on the given data set."
   ]
  },
  {
   "cell_type": "markdown",
   "metadata": {},
   "source": [
    "# Load Data and Import libs"
   ]
  },
  {
   "cell_type": "code",
   "execution_count": 1,
   "metadata": {
    "collapsed": true
   },
   "outputs": [],
   "source": [
    "import os\n",
    "\n",
    "project_root = os.path.join(os.getcwd(), os.pardir)\n",
    "processed_data_dir = os.path.join(project_root, 'data', 'processed')"
   ]
  },
  {
   "cell_type": "code",
   "execution_count": 2,
   "metadata": {
    "collapsed": true
   },
   "outputs": [],
   "source": [
    "import pandas as pd\n",
    "import matplotlib.pyplot as plt\n",
    "import seaborn as sns\n",
    "%matplotlib inline"
   ]
  },
  {
   "cell_type": "code",
   "execution_count": 3,
   "metadata": {
    "collapsed": false
   },
   "outputs": [],
   "source": [
    "train_df = pd.read_csv(os.path.join(processed_data_dir, 'train.csv'))\n",
    "train_df['Age'] = pd.to_numeric(train_df['Age'])\n",
    "# Kaggle does not provide survived column in test data...\n",
    "# test_df = pd.read_csv(os.path.join(processed_data_dir, 'test.csv'))"
   ]
  },
  {
   "cell_type": "code",
   "execution_count": 4,
   "metadata": {
    "collapsed": false
   },
   "outputs": [
    {
     "data": {
      "text/html": [
       "<div>\n",
       "<table border=\"1\" class=\"dataframe\">\n",
       "  <thead>\n",
       "    <tr style=\"text-align: right;\">\n",
       "      <th></th>\n",
       "      <th>Survived</th>\n",
       "      <th>Age</th>\n",
       "      <th>SibSp</th>\n",
       "      <th>Parch</th>\n",
       "      <th>Fare</th>\n",
       "      <th>male</th>\n",
       "      <th>Q</th>\n",
       "      <th>S</th>\n",
       "      <th>2</th>\n",
       "      <th>3</th>\n",
       "      <th>Master</th>\n",
       "      <th>Miss</th>\n",
       "      <th>Mr</th>\n",
       "      <th>Mrs</th>\n",
       "      <th>Other</th>\n",
       "      <th>Rev</th>\n",
       "    </tr>\n",
       "  </thead>\n",
       "  <tbody>\n",
       "    <tr>\n",
       "      <th>0</th>\n",
       "      <td>0</td>\n",
       "      <td>22.0</td>\n",
       "      <td>1</td>\n",
       "      <td>0</td>\n",
       "      <td>7.2500</td>\n",
       "      <td>1</td>\n",
       "      <td>0</td>\n",
       "      <td>1</td>\n",
       "      <td>0</td>\n",
       "      <td>1</td>\n",
       "      <td>0</td>\n",
       "      <td>0</td>\n",
       "      <td>1</td>\n",
       "      <td>0</td>\n",
       "      <td>0</td>\n",
       "      <td>0</td>\n",
       "    </tr>\n",
       "    <tr>\n",
       "      <th>1</th>\n",
       "      <td>1</td>\n",
       "      <td>38.0</td>\n",
       "      <td>1</td>\n",
       "      <td>0</td>\n",
       "      <td>71.2833</td>\n",
       "      <td>0</td>\n",
       "      <td>0</td>\n",
       "      <td>0</td>\n",
       "      <td>0</td>\n",
       "      <td>0</td>\n",
       "      <td>0</td>\n",
       "      <td>0</td>\n",
       "      <td>0</td>\n",
       "      <td>1</td>\n",
       "      <td>0</td>\n",
       "      <td>0</td>\n",
       "    </tr>\n",
       "    <tr>\n",
       "      <th>2</th>\n",
       "      <td>1</td>\n",
       "      <td>26.0</td>\n",
       "      <td>0</td>\n",
       "      <td>0</td>\n",
       "      <td>7.9250</td>\n",
       "      <td>0</td>\n",
       "      <td>0</td>\n",
       "      <td>1</td>\n",
       "      <td>0</td>\n",
       "      <td>1</td>\n",
       "      <td>0</td>\n",
       "      <td>1</td>\n",
       "      <td>0</td>\n",
       "      <td>0</td>\n",
       "      <td>0</td>\n",
       "      <td>0</td>\n",
       "    </tr>\n",
       "    <tr>\n",
       "      <th>3</th>\n",
       "      <td>1</td>\n",
       "      <td>35.0</td>\n",
       "      <td>1</td>\n",
       "      <td>0</td>\n",
       "      <td>53.1000</td>\n",
       "      <td>0</td>\n",
       "      <td>0</td>\n",
       "      <td>1</td>\n",
       "      <td>0</td>\n",
       "      <td>0</td>\n",
       "      <td>0</td>\n",
       "      <td>0</td>\n",
       "      <td>0</td>\n",
       "      <td>1</td>\n",
       "      <td>0</td>\n",
       "      <td>0</td>\n",
       "    </tr>\n",
       "    <tr>\n",
       "      <th>4</th>\n",
       "      <td>0</td>\n",
       "      <td>35.0</td>\n",
       "      <td>0</td>\n",
       "      <td>0</td>\n",
       "      <td>8.0500</td>\n",
       "      <td>1</td>\n",
       "      <td>0</td>\n",
       "      <td>1</td>\n",
       "      <td>0</td>\n",
       "      <td>1</td>\n",
       "      <td>0</td>\n",
       "      <td>0</td>\n",
       "      <td>1</td>\n",
       "      <td>0</td>\n",
       "      <td>0</td>\n",
       "      <td>0</td>\n",
       "    </tr>\n",
       "  </tbody>\n",
       "</table>\n",
       "</div>"
      ],
      "text/plain": [
       "   Survived   Age  SibSp  Parch     Fare  male  Q  S  2  3  Master  Miss  Mr  \\\n",
       "0         0  22.0      1      0   7.2500     1  0  1  0  1       0     0   1   \n",
       "1         1  38.0      1      0  71.2833     0  0  0  0  0       0     0   0   \n",
       "2         1  26.0      0      0   7.9250     0  0  1  0  1       0     1   0   \n",
       "3         1  35.0      1      0  53.1000     0  0  1  0  0       0     0   0   \n",
       "4         0  35.0      0      0   8.0500     1  0  1  0  1       0     0   1   \n",
       "\n",
       "   Mrs  Other  Rev  \n",
       "0    0      0    0  \n",
       "1    1      0    0  \n",
       "2    0      0    0  \n",
       "3    1      0    0  \n",
       "4    0      0    0  "
      ]
     },
     "execution_count": 4,
     "metadata": {},
     "output_type": "execute_result"
    }
   ],
   "source": [
    "train_df.head()"
   ]
  },
  {
   "cell_type": "code",
   "execution_count": 5,
   "metadata": {
    "collapsed": false
   },
   "outputs": [
    {
     "data": {
      "text/html": [
       "<div>\n",
       "<table border=\"1\" class=\"dataframe\">\n",
       "  <thead>\n",
       "    <tr style=\"text-align: right;\">\n",
       "      <th></th>\n",
       "      <th>Survived</th>\n",
       "      <th>Age</th>\n",
       "      <th>SibSp</th>\n",
       "      <th>Parch</th>\n",
       "      <th>Fare</th>\n",
       "      <th>male</th>\n",
       "      <th>Q</th>\n",
       "      <th>S</th>\n",
       "      <th>2</th>\n",
       "      <th>3</th>\n",
       "      <th>Master</th>\n",
       "      <th>Miss</th>\n",
       "      <th>Mr</th>\n",
       "      <th>Mrs</th>\n",
       "      <th>Other</th>\n",
       "      <th>Rev</th>\n",
       "    </tr>\n",
       "  </thead>\n",
       "  <tbody>\n",
       "    <tr>\n",
       "      <th>count</th>\n",
       "      <td>891.000000</td>\n",
       "      <td>891.000000</td>\n",
       "      <td>891.000000</td>\n",
       "      <td>891.000000</td>\n",
       "      <td>891.000000</td>\n",
       "      <td>891.000000</td>\n",
       "      <td>891.000000</td>\n",
       "      <td>891.000000</td>\n",
       "      <td>891.000000</td>\n",
       "      <td>891.000000</td>\n",
       "      <td>891.000000</td>\n",
       "      <td>891.000000</td>\n",
       "      <td>891.000000</td>\n",
       "      <td>891.000000</td>\n",
       "      <td>891.000000</td>\n",
       "      <td>891.000000</td>\n",
       "    </tr>\n",
       "    <tr>\n",
       "      <th>mean</th>\n",
       "      <td>0.383838</td>\n",
       "      <td>29.258328</td>\n",
       "      <td>0.523008</td>\n",
       "      <td>0.381594</td>\n",
       "      <td>32.204208</td>\n",
       "      <td>0.647587</td>\n",
       "      <td>0.086420</td>\n",
       "      <td>0.722783</td>\n",
       "      <td>0.206510</td>\n",
       "      <td>0.551066</td>\n",
       "      <td>0.044893</td>\n",
       "      <td>0.204265</td>\n",
       "      <td>0.580247</td>\n",
       "      <td>0.140292</td>\n",
       "      <td>0.015713</td>\n",
       "      <td>0.006734</td>\n",
       "    </tr>\n",
       "    <tr>\n",
       "      <th>std</th>\n",
       "      <td>0.486592</td>\n",
       "      <td>13.546307</td>\n",
       "      <td>1.102743</td>\n",
       "      <td>0.806057</td>\n",
       "      <td>49.693429</td>\n",
       "      <td>0.477990</td>\n",
       "      <td>0.281141</td>\n",
       "      <td>0.447876</td>\n",
       "      <td>0.405028</td>\n",
       "      <td>0.497665</td>\n",
       "      <td>0.207186</td>\n",
       "      <td>0.403390</td>\n",
       "      <td>0.493796</td>\n",
       "      <td>0.347485</td>\n",
       "      <td>0.124431</td>\n",
       "      <td>0.081830</td>\n",
       "    </tr>\n",
       "    <tr>\n",
       "      <th>min</th>\n",
       "      <td>0.000000</td>\n",
       "      <td>-1.000000</td>\n",
       "      <td>0.000000</td>\n",
       "      <td>0.000000</td>\n",
       "      <td>0.000000</td>\n",
       "      <td>0.000000</td>\n",
       "      <td>0.000000</td>\n",
       "      <td>0.000000</td>\n",
       "      <td>0.000000</td>\n",
       "      <td>0.000000</td>\n",
       "      <td>0.000000</td>\n",
       "      <td>0.000000</td>\n",
       "      <td>0.000000</td>\n",
       "      <td>0.000000</td>\n",
       "      <td>0.000000</td>\n",
       "      <td>0.000000</td>\n",
       "    </tr>\n",
       "    <tr>\n",
       "      <th>25%</th>\n",
       "      <td>0.000000</td>\n",
       "      <td>21.000000</td>\n",
       "      <td>0.000000</td>\n",
       "      <td>0.000000</td>\n",
       "      <td>7.910400</td>\n",
       "      <td>0.000000</td>\n",
       "      <td>0.000000</td>\n",
       "      <td>0.000000</td>\n",
       "      <td>0.000000</td>\n",
       "      <td>0.000000</td>\n",
       "      <td>0.000000</td>\n",
       "      <td>0.000000</td>\n",
       "      <td>0.000000</td>\n",
       "      <td>0.000000</td>\n",
       "      <td>0.000000</td>\n",
       "      <td>0.000000</td>\n",
       "    </tr>\n",
       "    <tr>\n",
       "      <th>50%</th>\n",
       "      <td>0.000000</td>\n",
       "      <td>27.000000</td>\n",
       "      <td>0.000000</td>\n",
       "      <td>0.000000</td>\n",
       "      <td>14.454200</td>\n",
       "      <td>1.000000</td>\n",
       "      <td>0.000000</td>\n",
       "      <td>1.000000</td>\n",
       "      <td>0.000000</td>\n",
       "      <td>1.000000</td>\n",
       "      <td>0.000000</td>\n",
       "      <td>0.000000</td>\n",
       "      <td>1.000000</td>\n",
       "      <td>0.000000</td>\n",
       "      <td>0.000000</td>\n",
       "      <td>0.000000</td>\n",
       "    </tr>\n",
       "    <tr>\n",
       "      <th>75%</th>\n",
       "      <td>1.000000</td>\n",
       "      <td>36.000000</td>\n",
       "      <td>1.000000</td>\n",
       "      <td>0.000000</td>\n",
       "      <td>31.000000</td>\n",
       "      <td>1.000000</td>\n",
       "      <td>0.000000</td>\n",
       "      <td>1.000000</td>\n",
       "      <td>0.000000</td>\n",
       "      <td>1.000000</td>\n",
       "      <td>0.000000</td>\n",
       "      <td>0.000000</td>\n",
       "      <td>1.000000</td>\n",
       "      <td>0.000000</td>\n",
       "      <td>0.000000</td>\n",
       "      <td>0.000000</td>\n",
       "    </tr>\n",
       "    <tr>\n",
       "      <th>max</th>\n",
       "      <td>1.000000</td>\n",
       "      <td>80.000000</td>\n",
       "      <td>8.000000</td>\n",
       "      <td>6.000000</td>\n",
       "      <td>512.329200</td>\n",
       "      <td>1.000000</td>\n",
       "      <td>1.000000</td>\n",
       "      <td>1.000000</td>\n",
       "      <td>1.000000</td>\n",
       "      <td>1.000000</td>\n",
       "      <td>1.000000</td>\n",
       "      <td>1.000000</td>\n",
       "      <td>1.000000</td>\n",
       "      <td>1.000000</td>\n",
       "      <td>1.000000</td>\n",
       "      <td>1.000000</td>\n",
       "    </tr>\n",
       "  </tbody>\n",
       "</table>\n",
       "</div>"
      ],
      "text/plain": [
       "         Survived         Age       SibSp       Parch        Fare        male  \\\n",
       "count  891.000000  891.000000  891.000000  891.000000  891.000000  891.000000   \n",
       "mean     0.383838   29.258328    0.523008    0.381594   32.204208    0.647587   \n",
       "std      0.486592   13.546307    1.102743    0.806057   49.693429    0.477990   \n",
       "min      0.000000   -1.000000    0.000000    0.000000    0.000000    0.000000   \n",
       "25%      0.000000   21.000000    0.000000    0.000000    7.910400    0.000000   \n",
       "50%      0.000000   27.000000    0.000000    0.000000   14.454200    1.000000   \n",
       "75%      1.000000   36.000000    1.000000    0.000000   31.000000    1.000000   \n",
       "max      1.000000   80.000000    8.000000    6.000000  512.329200    1.000000   \n",
       "\n",
       "                Q           S           2           3      Master        Miss  \\\n",
       "count  891.000000  891.000000  891.000000  891.000000  891.000000  891.000000   \n",
       "mean     0.086420    0.722783    0.206510    0.551066    0.044893    0.204265   \n",
       "std      0.281141    0.447876    0.405028    0.497665    0.207186    0.403390   \n",
       "min      0.000000    0.000000    0.000000    0.000000    0.000000    0.000000   \n",
       "25%      0.000000    0.000000    0.000000    0.000000    0.000000    0.000000   \n",
       "50%      0.000000    1.000000    0.000000    1.000000    0.000000    0.000000   \n",
       "75%      0.000000    1.000000    0.000000    1.000000    0.000000    0.000000   \n",
       "max      1.000000    1.000000    1.000000    1.000000    1.000000    1.000000   \n",
       "\n",
       "               Mr         Mrs       Other         Rev  \n",
       "count  891.000000  891.000000  891.000000  891.000000  \n",
       "mean     0.580247    0.140292    0.015713    0.006734  \n",
       "std      0.493796    0.347485    0.124431    0.081830  \n",
       "min      0.000000    0.000000    0.000000    0.000000  \n",
       "25%      0.000000    0.000000    0.000000    0.000000  \n",
       "50%      1.000000    0.000000    0.000000    0.000000  \n",
       "75%      1.000000    0.000000    0.000000    0.000000  \n",
       "max      1.000000    1.000000    1.000000    1.000000  "
      ]
     },
     "execution_count": 5,
     "metadata": {},
     "output_type": "execute_result"
    }
   ],
   "source": [
    "train_df.describe()"
   ]
  },
  {
   "cell_type": "code",
   "execution_count": 6,
   "metadata": {
    "collapsed": false
   },
   "outputs": [
    {
     "data": {
      "text/plain": [
       "<matplotlib.axes._subplots.AxesSubplot at 0x7f12229ca2b0>"
      ]
     },
     "execution_count": 6,
     "metadata": {},
     "output_type": "execute_result"
    },
    {
     "data": {
      "image/png": "[encoded data removed]",
      "text/plain": [
       "<matplotlib.figure.Figure at 0x7f12229c20f0>"
      ]
     },
     "metadata": {},
     "output_type": "display_data"
    }
   ],
   "source": [
    "sns.heatmap(train_df.corr())"
   ]
  },
  {
   "cell_type": "markdown",
   "metadata": {},
   "source": [
    "# Train and Evaluate Models"
   ]
  },
  {
   "cell_type": "code",
   "execution_count": 7,
   "metadata": {
    "collapsed": true
   },
   "outputs": [],
   "source": [
    "from sklearn.linear_model import LogisticRegression\n",
    "from sklearn.svm import SVC, NuSVC, LinearSVC\n",
    "from sklearn.tree import DecisionTreeClassifier\n",
    "from sklearn.ensemble import RandomForestClassifier\n",
    "from sklearn.neighbors import KNeighborsClassifier\n",
    "from sklearn.discriminant_analysis import LinearDiscriminantAnalysis\n",
    "from sklearn.naive_bayes import GaussianNB"
   ]
  },
  {
   "cell_type": "code",
   "execution_count": 8,
   "metadata": {
    "collapsed": true
   },
   "outputs": [],
   "source": [
    "models = [\n",
    "    ('Logistic Regression', LogisticRegression()),\n",
    "    ('SVC', SVC()),\n",
    "    ('NuSVC', NuSVC()),\n",
    "    ('Linear SVC', LinearSVC()),\n",
    "    ('Decision Tree', DecisionTreeClassifier()),\n",
    "    ('Random Forest', RandomForestClassifier()),\n",
    "    ('KNN', KNeighborsClassifier()),\n",
    "    ('LDA', LinearDiscriminantAnalysis()),\n",
    "    ('NB', GaussianNB())\n",
    "]"
   ]
  },
  {
   "cell_type": "code",
   "execution_count": 9,
   "metadata": {
    "collapsed": false
   },
   "outputs": [
    {
     "data": {
      "text/plain": [
       "Index(['Survived', 'Age', 'SibSp', 'Parch', 'Fare', 'male', 'Q', 'S', '2', '3',\n",
       "       'Master', 'Miss', 'Mr', 'Mrs', 'Other', 'Rev'],\n",
       "      dtype='object')"
      ]
     },
     "execution_count": 9,
     "metadata": {},
     "output_type": "execute_result"
    }
   ],
   "source": [
    "train_df.columns"
   ]
  },
  {
   "cell_type": "code",
   "execution_count": 10,
   "metadata": {
    "collapsed": false
   },
   "outputs": [],
   "source": [
    "from sklearn.model_selection import train_test_split\n",
    "\n",
    "X = train_df.drop('Survived',axis=1)\n",
    "y = train_df['Survived']\n",
    "\n",
    "X_train, X_test, y_train, y_test = train_test_split(\n",
    "    X,        \n",
    "    y, \n",
    "    test_size=0.30, \n",
    "    random_state=101\n",
    ")"
   ]
  },
  {
   "cell_type": "code",
   "execution_count": 11,
   "metadata": {
    "collapsed": false
   },
   "outputs": [],
   "source": [
    "from sklearn.metrics import confusion_matrix, accuracy_score, f1_score\n",
    "from sklearn.model_selection import KFold, cross_val_score\n",
    "\n",
    "reports = []\n",
    "kfold_results = []\n",
    "names = []\n",
    "\n",
    "for name, model in models:\n",
    "    names.append(name)\n",
    "    \n",
    "    # kfold\n",
    "    kfold = KFold(n_splits=10, random_state=7)\n",
    "    kfold_result = cross_val_score(model, X, y, cv=kfold, scoring='accuracy')\n",
    "    kfold_results.append(kfold_result)\n",
    "    \n",
    "    # train test split\n",
    "    model.fit(X_train, y_train)\n",
    "    predictions = model.predict(X_test)\n",
    "    reports.append({\n",
    "        'name': name,\n",
    "        'confusion': confusion_matrix(y_test, predictions),\n",
    "        'accuracy': accuracy_score(y_test, predictions),\n",
    "        'f1': f1_score(y_test, predictions)\n",
    "    })"
   ]
  },
  {
   "cell_type": "code",
   "execution_count": 12,
   "metadata": {
    "collapsed": false
   },
   "outputs": [
    {
     "data": {
      "image/png": "[encoded data removed]",
      "text/plain": [
       "<matplotlib.figure.Figure at 0x7f1214f98390>"
      ]
     },
     "metadata": {},
     "output_type": "display_data"
    }
   ],
   "source": [
    "g = sns.boxplot(x=names, y=kfold_results, )\n",
    "g.set_title('Model Evaluation\\n KFold 10 Splits')\n",
    "g.set_xlabel('Model')\n",
    "g.set_ylabel('Accuracy')\n",
    "g.set_xticklabels(names, rotation=90)\n",
    "g.get_figure().tight_layout()"
   ]
  },
  {
   "cell_type": "code",
   "execution_count": 13,
   "metadata": {
    "collapsed": false
   },
   "outputs": [
    {
     "name": "stdout",
     "output_type": "stream",
     "text": [
      "--------------------\n",
      "Logistic Regression\n",
      "--------------------\n",
      "F1 Score:         0.767772511848\n",
      "Accuracy:         0.817164179104\n",
      "Mean KFold (10):  0.781198501873\n",
      "Std. KFold (10):  0.0376302182976\n",
      "TPR:              0.710526315789\n",
      "FPR:              0.103896103896\n",
      "Specificity:      0.896103896104\n",
      "Precision:        0.835051546392\n",
      "\n",
      "--------------------\n",
      "SVC\n",
      "--------------------\n",
      "F1 Score:         0.633663366337\n",
      "Accuracy:         0.723880597015\n",
      "Mean KFold (10):  0.781198501873\n",
      "Std. KFold (10):  0.0376302182976\n",
      "TPR:              0.561403508772\n",
      "FPR:              0.155844155844\n",
      "Specificity:      0.844155844156\n",
      "Precision:        0.727272727273\n",
      "\n",
      "--------------------\n",
      "NuSVC\n",
      "--------------------\n",
      "F1 Score:         0.657004830918\n",
      "Accuracy:         0.735074626866\n",
      "Mean KFold (10):  0.781198501873\n",
      "Std. KFold (10):  0.0376302182976\n",
      "TPR:              0.59649122807\n",
      "FPR:              0.162337662338\n",
      "Specificity:      0.837662337662\n",
      "Precision:        0.731182795699\n",
      "\n",
      "--------------------\n",
      "Linear SVC\n",
      "--------------------\n",
      "F1 Score:         0.769230769231\n",
      "Accuracy:         0.820895522388\n",
      "Mean KFold (10):  0.781198501873\n",
      "Std. KFold (10):  0.0376302182976\n",
      "TPR:              0.701754385965\n",
      "FPR:              0.0909090909091\n",
      "Specificity:      0.909090909091\n",
      "Precision:        0.851063829787\n",
      "\n",
      "--------------------\n",
      "Decision Tree\n",
      "--------------------\n",
      "F1 Score:         0.704225352113\n",
      "Accuracy:         0.764925373134\n",
      "Mean KFold (10):  0.781198501873\n",
      "Std. KFold (10):  0.0376302182976\n",
      "TPR:              0.657894736842\n",
      "FPR:              0.155844155844\n",
      "Specificity:      0.844155844156\n",
      "Precision:        0.757575757576\n",
      "\n",
      "--------------------\n",
      "Random Forest\n",
      "--------------------\n",
      "F1 Score:         0.734299516908\n",
      "Accuracy:         0.794776119403\n",
      "Mean KFold (10):  0.781198501873\n",
      "Std. KFold (10):  0.0376302182976\n",
      "TPR:              0.666666666667\n",
      "FPR:              0.11038961039\n",
      "Specificity:      0.88961038961\n",
      "Precision:        0.817204301075\n",
      "\n",
      "--------------------\n",
      "KNN\n",
      "--------------------\n",
      "F1 Score:         0.638497652582\n",
      "Accuracy:         0.712686567164\n",
      "Mean KFold (10):  0.781198501873\n",
      "Std. KFold (10):  0.0376302182976\n",
      "TPR:              0.59649122807\n",
      "FPR:              0.201298701299\n",
      "Specificity:      0.798701298701\n",
      "Precision:        0.686868686869\n",
      "\n",
      "--------------------\n",
      "LDA\n",
      "--------------------\n",
      "F1 Score:         0.764150943396\n",
      "Accuracy:         0.813432835821\n",
      "Mean KFold (10):  0.781198501873\n",
      "Std. KFold (10):  0.0376302182976\n",
      "TPR:              0.710526315789\n",
      "FPR:              0.11038961039\n",
      "Specificity:      0.88961038961\n",
      "Precision:        0.826530612245\n",
      "\n",
      "--------------------\n",
      "NB\n",
      "--------------------\n",
      "F1 Score:         0.728813559322\n",
      "Accuracy:         0.761194029851\n",
      "Mean KFold (10):  0.781198501873\n",
      "Std. KFold (10):  0.0376302182976\n",
      "TPR:              0.754385964912\n",
      "FPR:              0.233766233766\n",
      "Specificity:      0.766233766234\n",
      "Precision:        0.704918032787\n",
      "\n"
     ]
    }
   ],
   "source": [
    "def print_model_stats(kfold_result, report):\n",
    "    tn = report['confusion'][0][0] # True negative\n",
    "    fp = report['confusion'][0][1] # False positive\n",
    "    fn = report['confusion'][1][0] # False negative\n",
    "    tp = report['confusion'][1][1] # True positive\n",
    "    \n",
    "    mr = 1 - report['accuracy'] # Misclassification rate\n",
    "    tpr = tp / (fn + tp) # True positive rate\n",
    "    fpr = fp / (tn + fp) # False positive rate\n",
    "    spec = 1 - fpr # Specificity\n",
    "    prec = tp / (fp + tp) # Precision    \n",
    "    \n",
    "    print('--------------------')\n",
    "    print(report['name'])\n",
    "    print('--------------------')\n",
    "    print('F1 Score:        ', report['f1'])\n",
    "    print('Accuracy:        ', report['accuracy'])\n",
    "    print('Mean KFold (10): ', kfold_result.mean())\n",
    "    print('Std. KFold (10): ', kfold_result.std())\n",
    "    print('TPR:             ', tpr)\n",
    "    print('FPR:             ', fpr)\n",
    "    print('Specificity:     ', spec)\n",
    "    print('Precision:       ', prec)\n",
    "    print()\n",
    "    \n",
    "for kfold, report in zip(kfold_results, reports):\n",
    "    print_model_stats(kfold_result, report)"
   ]
  },
  {
   "cell_type": "markdown",
   "metadata": {},
   "source": [
    "# Create Ensemble Model - VotingClassifier"
   ]
  },
  {
   "cell_type": "code",
   "execution_count": 14,
   "metadata": {
    "collapsed": true
   },
   "outputs": [],
   "source": [
    "from sklearn.ensemble import VotingClassifier\n",
    "\n",
    "model = VotingClassifier(\n",
    "    estimators=[\n",
    "        ('Logistic Regression', LogisticRegression()), \n",
    "        ('Decision Tree', DecisionTreeClassifier()), \n",
    "        ('Random Forest', RandomForestClassifier())\n",
    "    ], \n",
    "    voting='hard'\n",
    ")\n",
    "\n",
    "names.append('Voting')\n",
    "\n",
    "# kfold\n",
    "kfold = KFold(n_splits=10, random_state=7)\n",
    "kfold_result = cross_val_score(model, X, y, cv=kfold, scoring='accuracy')\n",
    "kfold_results.append(kfold_result)\n",
    "\n",
    "# train test split\n",
    "model.fit(X_train, y_train)\n",
    "predictions = model.predict(X_test)\n",
    "reports.append({\n",
    "    'name': 'Voting',\n",
    "    'confusion': confusion_matrix(y_test, predictions),\n",
    "    'accuracy': accuracy_score(y_test, predictions),\n",
    "    'f1': f1_score(y_test, predictions)\n",
    "})"
   ]
  },
  {
   "cell_type": "code",
   "execution_count": 15,
   "metadata": {
    "collapsed": false
   },
   "outputs": [
    {
     "name": "stdout",
     "output_type": "stream",
     "text": [
      "--------------------\n",
      "Voting\n",
      "--------------------\n",
      "F1 Score:         0.760975609756\n",
      "Accuracy:         0.817164179104\n",
      "Mean KFold (10):  0.826079900125\n",
      "Std. KFold (10):  0.03238262546\n",
      "TPR:              0.684210526316\n",
      "FPR:              0.0844155844156\n",
      "Specificity:      0.915584415584\n",
      "Precision:        0.857142857143\n",
      "\n"
     ]
    }
   ],
   "source": [
    "print_model_stats(kfold_results[-1], reports[-1])"
   ]
  },
  {
   "cell_type": "code",
   "execution_count": 16,
   "metadata": {
    "collapsed": false
   },
   "outputs": [
    {
     "data": {
      "image/png": "[encoded data removed]",
      "text/plain": [
       "<matplotlib.figure.Figure at 0x7f1207f7d828>"
      ]
     },
     "metadata": {},
     "output_type": "display_data"
    }
   ],
   "source": [
    "names = ['Logistic Regression', 'Decision Tree', 'Random Forest', 'Voting']\n",
    "kfold_results = [\n",
    "    kfold_results[0], \n",
    "    kfold_results[4], \n",
    "    kfold_results[5], \n",
    "    kfold_results[-1]\n",
    "]\n",
    "\n",
    "g = sns.boxplot(x=names, y=kfold_results, )\n",
    "g.set_title('Model Evaluation\\n KFold 10 Splits')\n",
    "g.set_xlabel('Model')\n",
    "g.set_ylabel('Accuracy')\n",
    "g.set_xticklabels(names, rotation=90)\n",
    "g.get_figure().tight_layout()"
   ]
  },
  {
   "cell_type": "markdown",
   "metadata": {},
   "source": [
    "# Save the Voting model"
   ]
  },
  {
   "cell_type": "code",
   "execution_count": 55,
   "metadata": {
    "collapsed": false
   },
   "outputs": [],
   "source": [
    "import pickle\n",
    "\n",
    "model_root = os.path.join(project_root, 'models')\n",
    "\n",
    "with open(os.path.join(model_root, 'voting.pickle'), 'wb') as f:\n",
    "    pickle.dump(model, f)"
   ]
  },
  {
   "cell_type": "markdown",
   "metadata": {},
   "source": [
    "# Would I die on the titanic?\n",
    "\n",
    "We can infer some of these values based on my income etc..."
   ]
  },
  {
   "cell_type": "code",
   "execution_count": 42,
   "metadata": {
    "collapsed": false
   },
   "outputs": [
    {
     "name": "stdout",
     "output_type": "stream",
     "text": [
      "You would have died. :(\n"
     ]
    }
   ],
   "source": [
    "# I'm 29 right now\n",
    "age = 29\n",
    "\n",
    "# I have a wife that would probably be on board\n",
    "sibsp = 1\n",
    "\n",
    "# No kids etc...would be on board\n",
    "parch = 0\n",
    "\n",
    "# Take the average of middle class fares\n",
    "fare = train_df[train_df['2'] == 1]['Fare'].mean().round(2)\n",
    "\n",
    "# I'm male...\n",
    "male = 1\n",
    "\n",
    "# This port is closest to me\n",
    "q = 1\n",
    "s = 0\n",
    "\n",
    "# I'm middle class right now\n",
    "second_class = 1\n",
    "third_class = 0\n",
    "\n",
    "# My title would be Mr\n",
    "master = 0\n",
    "miss = 0\n",
    "mr = 1\n",
    "mrs = 0\n",
    "other = 0\n",
    "rev = 0\n",
    "X = [\n",
    "    age,\n",
    "    sibsp,\n",
    "    parch,\n",
    "    fare,\n",
    "    male,\n",
    "    q,\n",
    "    s,\n",
    "    second_class,\n",
    "    third_class,\n",
    "    master,\n",
    "    miss,\n",
    "    mr,\n",
    "    mrs,\n",
    "    other,\n",
    "    rev\n",
    "]\n",
    "\n",
    "survived = model.predict([X])[0] == 1\n",
    "\n",
    "if survived:\n",
    "    print(\"You would have survived! :)\")\n",
    "else:\n",
    "    print(\"You would have died. :(\")"
   ]
  },
  {
   "cell_type": "markdown",
   "metadata": {},
   "source": [
    "# Would my wife die on the titanic?"
   ]
  },
  {
   "cell_type": "code",
   "execution_count": 52,
   "metadata": {
    "collapsed": false
   },
   "outputs": [
    {
     "name": "stdout",
     "output_type": "stream",
     "text": [
      "You would have survived! :)\n"
     ]
    }
   ],
   "source": [
    "# She is 26 right now\n",
    "age = 26\n",
    "\n",
    "# I would be on board with my wife\n",
    "sibsp = 1\n",
    "\n",
    "# No kids etc...would be on board\n",
    "parch = 0\n",
    "\n",
    "# Take the average of middle class fares\n",
    "fare = train_df[train_df['2'] == 1]['Fare'].mean().round(2)\n",
    "\n",
    "# She is a female\n",
    "male = 0\n",
    "\n",
    "# This port is closest to me\n",
    "q = 1\n",
    "s = 0\n",
    "\n",
    "# I'm middle class right now - so is my wife\n",
    "second_class = 1\n",
    "third_class = 0\n",
    "\n",
    "# Her title would be Mrs\n",
    "master = 0\n",
    "miss = 0\n",
    "mr = 0\n",
    "mrs = 1\n",
    "other = 0\n",
    "rev = 0\n",
    "X = [\n",
    "    age,\n",
    "    sibsp,\n",
    "    parch,\n",
    "    fare,\n",
    "    male,\n",
    "    q,\n",
    "    s,\n",
    "    second_class,\n",
    "    third_class,\n",
    "    master,\n",
    "    miss,\n",
    "    mr,\n",
    "    mrs,\n",
    "    other,\n",
    "    rev\n",
    "]\n",
    "\n",
    "survived = model.predict([X])[0] == 1\n",
    "\n",
    "if survived:\n",
    "    print(\"You would have survived! :)\")\n",
    "else:\n",
    "    print(\"You would have died. :(\")"
   ]
  }
 ],
 "metadata": {
  "kernelspec": {
   "display_name": "Python 3",
   "language": "python",
   "name": "python3"
  },
  "language_info": {
   "codemirror_mode": {
    "name": "ipython",
    "version": 3
   },
   "file_extension": ".py",
   "mimetype": "text/x-python",
   "name": "python",
   "nbconvert_exporter": "python",
   "pygments_lexer": "ipython3",
   "version": "3.5.2"
  }
 },
 "nbformat": 4,
 "nbformat_minor": 2
}
